{
  "cells": [
    {
      "cell_type": "code",
      "execution_count": 1,
      "metadata": {
        "colab": {
          "base_uri": "https://localhost:8080/"
        },
        "id": "igjlMeIM0xTW",
        "outputId": "61c2aab0-a164-4268-9ae4-0de6f8e69caa"
      },
      "outputs": [
        {
          "name": "stdout",
          "output_type": "stream",
          "text": [
            "Requirement already satisfied: flask in e:\\work\\cdi_test\\wmw_venv\\lib\\site-packages (3.0.3)\n",
            "Requirement already satisfied: pillow in e:\\work\\cdi_test\\wmw_venv\\lib\\site-packages (10.4.0)\n",
            "Requirement already satisfied: requests in e:\\work\\cdi_test\\wmw_venv\\lib\\site-packages (2.32.3)\n",
            "Requirement already satisfied: torch in e:\\work\\cdi_test\\wmw_venv\\lib\\site-packages (2.3.1)\n",
            "Requirement already satisfied: diffusers in e:\\work\\cdi_test\\wmw_venv\\lib\\site-packages (0.29.2)\n",
            "Requirement already satisfied: transformers in e:\\work\\cdi_test\\wmw_venv\\lib\\site-packages (4.43.3)\n",
            "Requirement already satisfied: accelerate in e:\\work\\cdi_test\\wmw_venv\\lib\\site-packages (0.33.0)\n",
            "Requirement already satisfied: itsdangerous>=2.1.2 in e:\\work\\cdi_test\\wmw_venv\\lib\\site-packages (from flask) (2.2.0)\n",
            "Requirement already satisfied: blinker>=1.6.2 in e:\\work\\cdi_test\\wmw_venv\\lib\\site-packages (from flask) (1.8.2)\n",
            "Requirement already satisfied: Jinja2>=3.1.2 in e:\\work\\cdi_test\\wmw_venv\\lib\\site-packages (from flask) (3.1.4)\n",
            "Requirement already satisfied: Werkzeug>=3.0.0 in e:\\work\\cdi_test\\wmw_venv\\lib\\site-packages (from flask) (3.0.3)\n",
            "Requirement already satisfied: click>=8.1.3 in e:\\work\\cdi_test\\wmw_venv\\lib\\site-packages (from flask) (8.1.7)\n",
            "Requirement already satisfied: urllib3<3,>=1.21.1 in e:\\work\\cdi_test\\wmw_venv\\lib\\site-packages (from requests) (2.2.2)\n",
            "Requirement already satisfied: idna<4,>=2.5 in e:\\work\\cdi_test\\wmw_venv\\lib\\site-packages (from requests) (3.7)\n",
            "Requirement already satisfied: charset-normalizer<4,>=2 in e:\\work\\cdi_test\\wmw_venv\\lib\\site-packages (from requests) (3.3.2)\n",
            "Requirement already satisfied: certifi>=2017.4.17 in e:\\work\\cdi_test\\wmw_venv\\lib\\site-packages (from requests) (2024.7.4)\n",
            "Requirement already satisfied: mkl<=2021.4.0,>=2021.1.1 in e:\\work\\cdi_test\\wmw_venv\\lib\\site-packages (from torch) (2021.4.0)\n",
            "Requirement already satisfied: filelock in e:\\work\\cdi_test\\wmw_venv\\lib\\site-packages (from torch) (3.15.4)\n",
            "Requirement already satisfied: networkx in e:\\work\\cdi_test\\wmw_venv\\lib\\site-packages (from torch) (3.3)\n",
            "Requirement already satisfied: sympy in e:\\work\\cdi_test\\wmw_venv\\lib\\site-packages (from torch) (1.13.0)\n",
            "Requirement already satisfied: typing-extensions>=4.8.0 in e:\\work\\cdi_test\\wmw_venv\\lib\\site-packages (from torch) (4.12.2)\n",
            "Requirement already satisfied: fsspec in e:\\work\\cdi_test\\wmw_venv\\lib\\site-packages (from torch) (2024.6.1)\n",
            "Requirement already satisfied: huggingface-hub>=0.23.2 in e:\\work\\cdi_test\\wmw_venv\\lib\\site-packages (from diffusers) (0.23.4)\n",
            "Requirement already satisfied: importlib-metadata in e:\\work\\cdi_test\\wmw_venv\\lib\\site-packages (from diffusers) (8.0.0)\n",
            "Requirement already satisfied: numpy in e:\\work\\cdi_test\\wmw_venv\\lib\\site-packages (from diffusers) (1.26.4)\n",
            "Requirement already satisfied: safetensors>=0.3.1 in e:\\work\\cdi_test\\wmw_venv\\lib\\site-packages (from diffusers) (0.4.3)\n",
            "Requirement already satisfied: regex!=2019.12.17 in e:\\work\\cdi_test\\wmw_venv\\lib\\site-packages (from diffusers) (2024.5.15)\n",
            "Requirement already satisfied: tokenizers<0.20,>=0.19 in e:\\work\\cdi_test\\wmw_venv\\lib\\site-packages (from transformers) (0.19.1)\n",
            "Requirement already satisfied: tqdm>=4.27 in e:\\work\\cdi_test\\wmw_venv\\lib\\site-packages (from transformers) (4.66.4)\n",
            "Requirement already satisfied: packaging>=20.0 in e:\\work\\cdi_test\\wmw_venv\\lib\\site-packages (from transformers) (24.1)\n",
            "Requirement already satisfied: pyyaml>=5.1 in e:\\work\\cdi_test\\wmw_venv\\lib\\site-packages (from transformers) (6.0.1)\n",
            "Requirement already satisfied: psutil in e:\\work\\cdi_test\\wmw_venv\\lib\\site-packages (from accelerate) (6.0.0)\n",
            "Requirement already satisfied: colorama in e:\\work\\cdi_test\\wmw_venv\\lib\\site-packages (from click>=8.1.3->flask) (0.4.6)\n",
            "Requirement already satisfied: MarkupSafe>=2.0 in e:\\work\\cdi_test\\wmw_venv\\lib\\site-packages (from Jinja2>=3.1.2->flask) (2.1.5)\n",
            "Requirement already satisfied: intel-openmp==2021.* in e:\\work\\cdi_test\\wmw_venv\\lib\\site-packages (from mkl<=2021.4.0,>=2021.1.1->torch) (2021.4.0)\n",
            "Requirement already satisfied: tbb==2021.* in e:\\work\\cdi_test\\wmw_venv\\lib\\site-packages (from mkl<=2021.4.0,>=2021.1.1->torch) (2021.13.0)\n",
            "Requirement already satisfied: zipp>=0.5 in e:\\work\\cdi_test\\wmw_venv\\lib\\site-packages (from importlib-metadata->diffusers) (3.19.2)\n",
            "Requirement already satisfied: mpmath<1.4,>=1.1.0 in e:\\work\\cdi_test\\wmw_venv\\lib\\site-packages (from sympy->torch) (1.3.0)\n"
          ]
        },
        {
          "name": "stderr",
          "output_type": "stream",
          "text": [
            "\n",
            "[notice] A new release of pip is available: 23.0.1 -> 24.2\n",
            "[notice] To update, run: python.exe -m pip install --upgrade pip\n"
          ]
        }
      ],
      "source": [
        "# Install required dependencies\n",
        "!pip install flask pillow requests torch diffusers transformers accelerate"
      ]
    },
    {
      "cell_type": "code",
      "execution_count": 2,
      "metadata": {
        "colab": {
          "base_uri": "https://localhost:8080/",
          "height": 156,
          "referenced_widgets": [
            "f6f003a50cc4443686e8873bf38f3a96",
            "92dec7f55615431486d854223037c116",
            "f7dfa87337364305a5a403873f192de3",
            "c8ccf9d3c2924880be585e989df4a72d",
            "420a135531e64689b9c27d338c369960",
            "f6f317918a6e47ef98b3b69dfaeb3c36",
            "7ea37e0b36b84034968f00dfb106f1eb",
            "707ee08ebc1d4df2be26a1661aba61de",
            "8f49e5ad8a414e509f69525c25c5e810",
            "b019ae05d4384f8697630871cbd973dd",
            "b3ebe3dbd7164d45b684f92845244318"
          ]
        },
        "id": "BHuQAIFb0xTY",
        "outputId": "3f9e444e-f169-4cf4-dfc7-246efa1a6928"
      },
      "outputs": [
        {
          "name": "stderr",
          "output_type": "stream",
          "text": [
            "e:\\Work\\CDI_test\\wmw_venv\\lib\\site-packages\\tqdm\\auto.py:21: TqdmWarning: IProgress not found. Please update jupyter and ipywidgets. See https://ipywidgets.readthedocs.io/en/stable/user_install.html\n",
            "  from .autonotebook import tqdm as notebook_tqdm\n"
          ]
        }
      ],
      "source": [
        "# Packages to be used\n",
        "from flask import Flask, request, jsonify\n",
        "import requests\n",
        "from io import BytesIO\n",
        "from PIL import Image\n",
        "import torch\n",
        "from diffusers import StableDiffusionImg2ImgPipeline, StableDiffusionPipeline\n",
        "from diffusers.utils import load_image\n",
        "import logging"
      ]
    },
    {
      "cell_type": "code",
      "execution_count": 3,
      "metadata": {
        "id": "iwYv6beT0xTZ"
      },
      "outputs": [],
      "source": [
        "# Create app for api using Flask\n",
        "app = Flask(__name__)\n",
        "SERVER_PORT = 5000\n",
        "SERVER_HOST = \"0.0.0.0\""
      ]
    },
    {
      "cell_type": "code",
      "execution_count": 4,
      "metadata": {},
      "outputs": [],
      "source": [
        "# Set up logging\n",
        "logging.basicConfig(level=logging.DEBUG)"
      ]
    },
    {
      "cell_type": "code",
      "execution_count": 5,
      "metadata": {
        "id": "PWmiPdaQYUiW"
      },
      "outputs": [
        {
          "name": "stderr",
          "output_type": "stream",
          "text": [
            "DEBUG:urllib3.connectionpool:Starting new HTTPS connection (1): huggingface.co:443\n",
            "DEBUG:urllib3.connectionpool:https://huggingface.co:443 \"GET /api/models/runwayml/stable-diffusion-v1-5 HTTP/11\" 200 6423\n",
            "DEBUG:urllib3.connectionpool:https://huggingface.co:443 \"HEAD /runwayml/stable-diffusion-v1-5/resolve/main/model_index.json HTTP/11\" 200 0\n",
            "Loading pipeline components...: 100%|██████████| 7/7 [00:02<00:00,  3.19it/s]\n"
          ]
        }
      ],
      "source": [
        "device = \"cuda\" if torch.cuda.is_available() else \"cpu\"\n",
        "# model_id = \"CompVis/stable-diffusion-v1-4\"\n",
        "model_id = \"runwayml/stable-diffusion-v1-5\"\n",
        "# pipeline = StableDiffusionPipeline.from_pretrained(model_id).to(device)\n",
        "pipeline = StableDiffusionImg2ImgPipeline.from_pretrained(model_id).to(device)\n"
      ]
    },
    {
      "cell_type": "code",
      "execution_count": 6,
      "metadata": {
        "id": "I9UY6HSJ0xTZ"
      },
      "outputs": [],
      "source": [
        "# Define function to treat the image and apply the aging function\n",
        "def age_image(input_image: Image.Image) -> Image.Image:\n",
        "\n",
        "    image_to_convert = input_image.convert(\"RGB\")\n",
        "    image_to_convert = image_to_convert.resize((768,512))\n",
        "    # Aging transfer model code here\n",
        "    # prompt = \"Aged face, old person, wrinkles, gray hair\"\n",
        "    prompt = \"A detailed close-up portrait of the same person but aged 30 years, with wrinkles, gray hair, age spots, and a mature, wise expression, realistic, high resolution\"\n",
        "\n",
        "    result = pipeline(prompt, image=image_to_convert, strength=0.75, guidance_scale=7.5)\n",
        "    aged_image = result.images[0]\n",
        "    return aged_image"
      ]
    },
    {
      "cell_type": "code",
      "execution_count": 7,
      "metadata": {
        "id": "Sc2GdplI0xTa"
      },
      "outputs": [],
      "source": [
        "# The main Flask app implementation\n",
        "# Get image from URL, apply algorithm and save it to\n",
        "@app.route('/age_picture', methods=['POST'])\n",
        "def age_picture():\n",
        "    image_url = request.form.get('url')\n",
        "\n",
        "    if not image_url:\n",
        "        app.logger.debug(\"No Image URL found\")\n",
        "        return jsonify({\"error\": \"No Image URL found\"}), 400\n",
        "\n",
        "    try:\n",
        "        response = requests.get(image_url)\n",
        "        response.raise_for_status()\n",
        "    except requests.RequestException as e:\n",
        "        app.logger.debug(f\"Error fetching image: {e}\")\n",
        "        return jsonify({\"error\": str(e)}), 400\n",
        "\n",
        "    try:\n",
        "        input_image = Image.open(BytesIO(response.content))\n",
        "    except Exception as e:\n",
        "        app.logger.debug(f\"Error opening image, Invalid image format: {e}\")\n",
        "        return jsonify({\"error\": \"Error opening image, Invalid image format\"}), 400\n",
        "\n",
        "    try:\n",
        "        aged_image = age_image(input_image)\n",
        "    except Exception as e:\n",
        "        app.logger.debug(f\"Error processing image: {e}\")\n",
        "        return jsonify({\"error\": \"Error processing image\", \"pb\":e}), 500\n",
        "\n",
        "    output_path = \"aged_image.jpg\"\n",
        "    \n",
        "    try:\n",
        "        aged_image.save(output_path)\n",
        "    except Exception as e:\n",
        "        app.logger.debug(f\"Error saving image: {e}\")\n",
        "        return jsonify({\"error\": \"Error saving image\"}), 500\n",
        "\n",
        "    return jsonify({\"path\": output_path})"
      ]
    },
    {
      "cell_type": "code",
      "execution_count": 8,
      "metadata": {
        "id": "_1L4uaP00xTa"
      },
      "outputs": [],
      "source": [
        "# Launch the flask app server\n",
        "def run_flask():\n",
        "    app.run(host=SERVER_HOST, port=SERVER_PORT)"
      ]
    },
    {
      "cell_type": "code",
      "execution_count": 9,
      "metadata": {
        "id": "AwbBvXO2cP1P"
      },
      "outputs": [
        {
          "name": "stdout",
          "output_type": "stream",
          "text": [
            " * Serving Flask app '__main__'\n",
            " * Debug mode: off\n"
          ]
        },
        {
          "name": "stderr",
          "output_type": "stream",
          "text": [
            "INFO:werkzeug:\u001b[31m\u001b[1mWARNING: This is a development server. Do not use it in a production deployment. Use a production WSGI server instead.\u001b[0m\n",
            " * Running on all addresses (0.0.0.0)\n",
            " * Running on http://127.0.0.1:5000\n",
            " * Running on http://192.168.1.113:5000\n",
            "INFO:werkzeug:\u001b[33mPress CTRL+C to quit\u001b[0m\n"
          ]
        }
      ],
      "source": [
        "import threading\n",
        "\n",
        "# Start flask server in a thread\n",
        "thread = threading.Thread(target=run_flask)\n",
        "thread.start()"
      ]
    },
    {
      "cell_type": "markdown",
      "metadata": {
        "id": "jRD6kv_50xTa"
      },
      "source": [
        "# TEST"
      ]
    },
    {
      "cell_type": "code",
      "execution_count": 10,
      "metadata": {
        "id": "sw63TF290xTb"
      },
      "outputs": [
        {
          "name": "stderr",
          "output_type": "stream",
          "text": [
            "DEBUG:urllib3.connectionpool:Starting new HTTP connection (1): 127.0.0.1:5000\n",
            "DEBUG:urllib3.connectionpool:http://127.0.0.1:5000 \"POST /age_picture HTTP/11\" 200 26\n"
          ]
        },
        {
          "name": "stderr",
          "output_type": "stream",
          "text": [
            "DEBUG:urllib3.connectionpool:Starting new HTTPS connection (1): img.freepik.com:443\n",
            "DEBUG:urllib3.connectionpool:https://img.freepik.com:443 \"GET /free-photo/portrait-white-man-isolated_53876-40306.jpg HTTP/11\" 200 43027\n",
            "100%|██████████| 37/37 [29:35<00:00, 48.00s/it]\n",
            "INFO:werkzeug:127.0.0.1 - - [04/Aug/2024 20:18:20] \"POST /age_picture HTTP/1.1\" 200 -\n"
          ]
        },
        {
          "name": "stdout",
          "output_type": "stream",
          "text": [
            "{'path': 'aged_image.jpg'}\n"
          ]
        }
      ],
      "source": [
        "# Test model using our api\n",
        "endpoint_url = \"http://127.0.0.1:5000/age_picture\"\n",
        "image_url = \"https://img.freepik.com/free-photo/portrait-white-man-isolated_53876-40306.jpg\"\n",
        "\n",
        "form_data = {\n",
        "    'url': image_url\n",
        "}\n",
        "\n",
        "response = requests.post(endpoint_url, data=form_data)\n",
        "\n",
        "print(response.json())"
      ]
    }
  ],
  "metadata": {
    "colab": {
      "provenance": []
    },
    "kernelspec": {
      "display_name": "wmw_venv",
      "language": "python",
      "name": "python3"
    },
    "language_info": {
      "codemirror_mode": {
        "name": "ipython",
        "version": 3
      },
      "file_extension": ".py",
      "mimetype": "text/x-python",
      "name": "python",
      "nbconvert_exporter": "python",
      "pygments_lexer": "ipython3",
      "version": "3.10.11"
    },
    "widgets": {
      "application/vnd.jupyter.widget-state+json": {
        "420a135531e64689b9c27d338c369960": {
          "model_module": "@jupyter-widgets/base",
          "model_module_version": "1.2.0",
          "model_name": "LayoutModel",
          "state": {
            "_model_module": "@jupyter-widgets/base",
            "_model_module_version": "1.2.0",
            "_model_name": "LayoutModel",
            "_view_count": null,
            "_view_module": "@jupyter-widgets/base",
            "_view_module_version": "1.2.0",
            "_view_name": "LayoutView",
            "align_content": null,
            "align_items": null,
            "align_self": null,
            "border": null,
            "bottom": null,
            "display": null,
            "flex": null,
            "flex_flow": null,
            "grid_area": null,
            "grid_auto_columns": null,
            "grid_auto_flow": null,
            "grid_auto_rows": null,
            "grid_column": null,
            "grid_gap": null,
            "grid_row": null,
            "grid_template_areas": null,
            "grid_template_columns": null,
            "grid_template_rows": null,
            "height": null,
            "justify_content": null,
            "justify_items": null,
            "left": null,
            "margin": null,
            "max_height": null,
            "max_width": null,
            "min_height": null,
            "min_width": null,
            "object_fit": null,
            "object_position": null,
            "order": null,
            "overflow": null,
            "overflow_x": null,
            "overflow_y": null,
            "padding": null,
            "right": null,
            "top": null,
            "visibility": null,
            "width": null
          }
        },
        "707ee08ebc1d4df2be26a1661aba61de": {
          "model_module": "@jupyter-widgets/base",
          "model_module_version": "1.2.0",
          "model_name": "LayoutModel",
          "state": {
            "_model_module": "@jupyter-widgets/base",
            "_model_module_version": "1.2.0",
            "_model_name": "LayoutModel",
            "_view_count": null,
            "_view_module": "@jupyter-widgets/base",
            "_view_module_version": "1.2.0",
            "_view_name": "LayoutView",
            "align_content": null,
            "align_items": null,
            "align_self": null,
            "border": null,
            "bottom": null,
            "display": null,
            "flex": null,
            "flex_flow": null,
            "grid_area": null,
            "grid_auto_columns": null,
            "grid_auto_flow": null,
            "grid_auto_rows": null,
            "grid_column": null,
            "grid_gap": null,
            "grid_row": null,
            "grid_template_areas": null,
            "grid_template_columns": null,
            "grid_template_rows": null,
            "height": null,
            "justify_content": null,
            "justify_items": null,
            "left": null,
            "margin": null,
            "max_height": null,
            "max_width": null,
            "min_height": null,
            "min_width": null,
            "object_fit": null,
            "object_position": null,
            "order": null,
            "overflow": null,
            "overflow_x": null,
            "overflow_y": null,
            "padding": null,
            "right": null,
            "top": null,
            "visibility": null,
            "width": "20px"
          }
        },
        "7ea37e0b36b84034968f00dfb106f1eb": {
          "model_module": "@jupyter-widgets/controls",
          "model_module_version": "1.5.0",
          "model_name": "DescriptionStyleModel",
          "state": {
            "_model_module": "@jupyter-widgets/controls",
            "_model_module_version": "1.5.0",
            "_model_name": "DescriptionStyleModel",
            "_view_count": null,
            "_view_module": "@jupyter-widgets/base",
            "_view_module_version": "1.2.0",
            "_view_name": "StyleView",
            "description_width": ""
          }
        },
        "8f49e5ad8a414e509f69525c25c5e810": {
          "model_module": "@jupyter-widgets/controls",
          "model_module_version": "1.5.0",
          "model_name": "ProgressStyleModel",
          "state": {
            "_model_module": "@jupyter-widgets/controls",
            "_model_module_version": "1.5.0",
            "_model_name": "ProgressStyleModel",
            "_view_count": null,
            "_view_module": "@jupyter-widgets/base",
            "_view_module_version": "1.2.0",
            "_view_name": "StyleView",
            "bar_color": null,
            "description_width": ""
          }
        },
        "92dec7f55615431486d854223037c116": {
          "model_module": "@jupyter-widgets/controls",
          "model_module_version": "1.5.0",
          "model_name": "HTMLModel",
          "state": {
            "_dom_classes": [],
            "_model_module": "@jupyter-widgets/controls",
            "_model_module_version": "1.5.0",
            "_model_name": "HTMLModel",
            "_view_count": null,
            "_view_module": "@jupyter-widgets/controls",
            "_view_module_version": "1.5.0",
            "_view_name": "HTMLView",
            "description": "",
            "description_tooltip": null,
            "layout": "IPY_MODEL_f6f317918a6e47ef98b3b69dfaeb3c36",
            "placeholder": "​",
            "style": "IPY_MODEL_7ea37e0b36b84034968f00dfb106f1eb",
            "value": ""
          }
        },
        "b019ae05d4384f8697630871cbd973dd": {
          "model_module": "@jupyter-widgets/base",
          "model_module_version": "1.2.0",
          "model_name": "LayoutModel",
          "state": {
            "_model_module": "@jupyter-widgets/base",
            "_model_module_version": "1.2.0",
            "_model_name": "LayoutModel",
            "_view_count": null,
            "_view_module": "@jupyter-widgets/base",
            "_view_module_version": "1.2.0",
            "_view_name": "LayoutView",
            "align_content": null,
            "align_items": null,
            "align_self": null,
            "border": null,
            "bottom": null,
            "display": null,
            "flex": null,
            "flex_flow": null,
            "grid_area": null,
            "grid_auto_columns": null,
            "grid_auto_flow": null,
            "grid_auto_rows": null,
            "grid_column": null,
            "grid_gap": null,
            "grid_row": null,
            "grid_template_areas": null,
            "grid_template_columns": null,
            "grid_template_rows": null,
            "height": null,
            "justify_content": null,
            "justify_items": null,
            "left": null,
            "margin": null,
            "max_height": null,
            "max_width": null,
            "min_height": null,
            "min_width": null,
            "object_fit": null,
            "object_position": null,
            "order": null,
            "overflow": null,
            "overflow_x": null,
            "overflow_y": null,
            "padding": null,
            "right": null,
            "top": null,
            "visibility": null,
            "width": null
          }
        },
        "b3ebe3dbd7164d45b684f92845244318": {
          "model_module": "@jupyter-widgets/controls",
          "model_module_version": "1.5.0",
          "model_name": "DescriptionStyleModel",
          "state": {
            "_model_module": "@jupyter-widgets/controls",
            "_model_module_version": "1.5.0",
            "_model_name": "DescriptionStyleModel",
            "_view_count": null,
            "_view_module": "@jupyter-widgets/base",
            "_view_module_version": "1.2.0",
            "_view_name": "StyleView",
            "description_width": ""
          }
        },
        "c8ccf9d3c2924880be585e989df4a72d": {
          "model_module": "@jupyter-widgets/controls",
          "model_module_version": "1.5.0",
          "model_name": "HTMLModel",
          "state": {
            "_dom_classes": [],
            "_model_module": "@jupyter-widgets/controls",
            "_model_module_version": "1.5.0",
            "_model_name": "HTMLModel",
            "_view_count": null,
            "_view_module": "@jupyter-widgets/controls",
            "_view_module_version": "1.5.0",
            "_view_name": "HTMLView",
            "description": "",
            "description_tooltip": null,
            "layout": "IPY_MODEL_b019ae05d4384f8697630871cbd973dd",
            "placeholder": "​",
            "style": "IPY_MODEL_b3ebe3dbd7164d45b684f92845244318",
            "value": " 0/0 [00:00&lt;?, ?it/s]"
          }
        },
        "f6f003a50cc4443686e8873bf38f3a96": {
          "model_module": "@jupyter-widgets/controls",
          "model_module_version": "1.5.0",
          "model_name": "HBoxModel",
          "state": {
            "_dom_classes": [],
            "_model_module": "@jupyter-widgets/controls",
            "_model_module_version": "1.5.0",
            "_model_name": "HBoxModel",
            "_view_count": null,
            "_view_module": "@jupyter-widgets/controls",
            "_view_module_version": "1.5.0",
            "_view_name": "HBoxView",
            "box_style": "",
            "children": [
              "IPY_MODEL_92dec7f55615431486d854223037c116",
              "IPY_MODEL_f7dfa87337364305a5a403873f192de3",
              "IPY_MODEL_c8ccf9d3c2924880be585e989df4a72d"
            ],
            "layout": "IPY_MODEL_420a135531e64689b9c27d338c369960"
          }
        },
        "f6f317918a6e47ef98b3b69dfaeb3c36": {
          "model_module": "@jupyter-widgets/base",
          "model_module_version": "1.2.0",
          "model_name": "LayoutModel",
          "state": {
            "_model_module": "@jupyter-widgets/base",
            "_model_module_version": "1.2.0",
            "_model_name": "LayoutModel",
            "_view_count": null,
            "_view_module": "@jupyter-widgets/base",
            "_view_module_version": "1.2.0",
            "_view_name": "LayoutView",
            "align_content": null,
            "align_items": null,
            "align_self": null,
            "border": null,
            "bottom": null,
            "display": null,
            "flex": null,
            "flex_flow": null,
            "grid_area": null,
            "grid_auto_columns": null,
            "grid_auto_flow": null,
            "grid_auto_rows": null,
            "grid_column": null,
            "grid_gap": null,
            "grid_row": null,
            "grid_template_areas": null,
            "grid_template_columns": null,
            "grid_template_rows": null,
            "height": null,
            "justify_content": null,
            "justify_items": null,
            "left": null,
            "margin": null,
            "max_height": null,
            "max_width": null,
            "min_height": null,
            "min_width": null,
            "object_fit": null,
            "object_position": null,
            "order": null,
            "overflow": null,
            "overflow_x": null,
            "overflow_y": null,
            "padding": null,
            "right": null,
            "top": null,
            "visibility": null,
            "width": null
          }
        },
        "f7dfa87337364305a5a403873f192de3": {
          "model_module": "@jupyter-widgets/controls",
          "model_module_version": "1.5.0",
          "model_name": "FloatProgressModel",
          "state": {
            "_dom_classes": [],
            "_model_module": "@jupyter-widgets/controls",
            "_model_module_version": "1.5.0",
            "_model_name": "FloatProgressModel",
            "_view_count": null,
            "_view_module": "@jupyter-widgets/controls",
            "_view_module_version": "1.5.0",
            "_view_name": "ProgressView",
            "bar_style": "success",
            "description": "",
            "description_tooltip": null,
            "layout": "IPY_MODEL_707ee08ebc1d4df2be26a1661aba61de",
            "max": 1,
            "min": 0,
            "orientation": "horizontal",
            "style": "IPY_MODEL_8f49e5ad8a414e509f69525c25c5e810",
            "value": 0
          }
        }
      }
    }
  },
  "nbformat": 4,
  "nbformat_minor": 0
}
